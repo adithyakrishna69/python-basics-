{
 "cells": [
  {
   "cell_type": "code",
   "execution_count": 1,
   "id": "f11e8418-7f3a-4b69-92ae-cfe972356760",
   "metadata": {},
   "outputs": [
    {
     "data": {
      "text/plain": [
       "15"
      ]
     },
     "execution_count": 1,
     "metadata": {},
     "output_type": "execute_result"
    }
   ],
   "source": [
    "6+9"
   ]
  },
  {
   "cell_type": "code",
   "execution_count": 2,
   "id": "999251cb-6bc4-416c-ba21-ec35fa9d4965",
   "metadata": {},
   "outputs": [
    {
     "data": {
      "text/plain": [
       "25"
      ]
     },
     "execution_count": 2,
     "metadata": {},
     "output_type": "execute_result"
    }
   ],
   "source": [
    "5*5"
   ]
  },
  {
   "cell_type": "code",
   "execution_count": 3,
   "id": "eb9f2c51-ddea-421b-b20f-7d8c2d66a5b1",
   "metadata": {},
   "outputs": [
    {
     "data": {
      "text/plain": [
       "0.045"
      ]
     },
     "execution_count": 3,
     "metadata": {},
     "output_type": "execute_result"
    }
   ],
   "source": [
    "45/1000"
   ]
  },
  {
   "cell_type": "code",
   "execution_count": 4,
   "id": "cca7a35f-e188-4786-97a6-13284eb69a0c",
   "metadata": {},
   "outputs": [
    {
     "data": {
      "text/plain": [
       "322"
      ]
     },
     "execution_count": 4,
     "metadata": {},
     "output_type": "execute_result"
    }
   ],
   "source": [
    "420-98"
   ]
  },
  {
   "cell_type": "code",
   "execution_count": 5,
   "id": "b2f6239c-9194-4346-bbed-ca1baf0fb464",
   "metadata": {},
   "outputs": [],
   "source": [
    "x=10"
   ]
  },
  {
   "cell_type": "code",
   "execution_count": 6,
   "id": "930634e0-5179-43b8-a996-6bbdc7c3503f",
   "metadata": {},
   "outputs": [
    {
     "name": "stdout",
     "output_type": "stream",
     "text": [
      "10\n"
     ]
    }
   ],
   "source": [
    "print(x)"
   ]
  },
  {
   "cell_type": "code",
   "execution_count": 7,
   "id": "529cb572-afbe-417b-9bb2-800cf256ca3a",
   "metadata": {},
   "outputs": [],
   "source": [
    "y=20"
   ]
  },
  {
   "cell_type": "code",
   "execution_count": 8,
   "id": "8f8459ca-6b86-4161-ac36-be374d834f73",
   "metadata": {},
   "outputs": [
    {
     "name": "stdout",
     "output_type": "stream",
     "text": [
      "20\n"
     ]
    }
   ],
   "source": [
    "print(y)"
   ]
  },
  {
   "cell_type": "code",
   "execution_count": 9,
   "id": "fd7d556f-67e8-438f-9ca8-baf62e4bcc15",
   "metadata": {},
   "outputs": [
    {
     "name": "stdout",
     "output_type": "stream",
     "text": [
      "30\n"
     ]
    }
   ],
   "source": [
    "print(x+y)"
   ]
  },
  {
   "cell_type": "code",
   "execution_count": 10,
   "id": "2339c3cf-6fd0-4197-9eda-c969c9cab0ca",
   "metadata": {},
   "outputs": [
    {
     "name": "stdout",
     "output_type": "stream",
     "text": [
      "-10\n"
     ]
    }
   ],
   "source": [
    "print(x-y)"
   ]
  },
  {
   "cell_type": "code",
   "execution_count": 11,
   "id": "73f09947-eec2-43b6-a5fd-fc95d5ec9265",
   "metadata": {},
   "outputs": [
    {
     "name": "stdout",
     "output_type": "stream",
     "text": [
      "200\n"
     ]
    }
   ],
   "source": [
    "print(x*y)"
   ]
  },
  {
   "cell_type": "code",
   "execution_count": 12,
   "id": "97f0dc45-9710-4637-8ce6-4ea28210e3d8",
   "metadata": {},
   "outputs": [
    {
     "name": "stdout",
     "output_type": "stream",
     "text": [
      "0.5\n"
     ]
    }
   ],
   "source": [
    "print(x/y)"
   ]
  },
  {
   "cell_type": "code",
   "execution_count": 13,
   "id": "43d4f97c-091b-40e2-adce-2e3ef2f98314",
   "metadata": {},
   "outputs": [
    {
     "data": {
      "text/plain": [
       "int"
      ]
     },
     "execution_count": 13,
     "metadata": {},
     "output_type": "execute_result"
    }
   ],
   "source": [
    "type(x)"
   ]
  },
  {
   "cell_type": "code",
   "execution_count": 14,
   "id": "f135dfa7-f581-4522-9a6c-cbd372c0daa6",
   "metadata": {},
   "outputs": [
    {
     "data": {
      "text/plain": [
       "int"
      ]
     },
     "execution_count": 14,
     "metadata": {},
     "output_type": "execute_result"
    }
   ],
   "source": [
    "type(y)"
   ]
  },
  {
   "cell_type": "code",
   "execution_count": 15,
   "id": "2c810f08-daf6-4f17-8970-35fa0133872b",
   "metadata": {},
   "outputs": [],
   "source": [
    "x=\"Adithya\""
   ]
  },
  {
   "cell_type": "code",
   "execution_count": 16,
   "id": "76085ad2-809b-4dea-bf49-ce765284307f",
   "metadata": {},
   "outputs": [
    {
     "name": "stdout",
     "output_type": "stream",
     "text": [
      "Adithya\n"
     ]
    }
   ],
   "source": [
    "print(x)"
   ]
  },
  {
   "cell_type": "code",
   "execution_count": 17,
   "id": "84cf8ec5-8a15-434e-8b0a-ba8d2b437efd",
   "metadata": {},
   "outputs": [
    {
     "data": {
      "text/plain": [
       "str"
      ]
     },
     "execution_count": 17,
     "metadata": {},
     "output_type": "execute_result"
    }
   ],
   "source": [
    "type(x)"
   ]
  },
  {
   "cell_type": "code",
   "execution_count": 18,
   "id": "2a671fd0-e88e-4322-aab4-de85bcb6ca11",
   "metadata": {},
   "outputs": [],
   "source": [
    "x= 10"
   ]
  },
  {
   "cell_type": "code",
   "execution_count": 19,
   "id": "de841dba-1902-4767-8fdd-9fbac6bb80d2",
   "metadata": {},
   "outputs": [],
   "source": [
    "y=20"
   ]
  },
  {
   "cell_type": "code",
   "execution_count": 20,
   "id": "0f1fd8e1-3dae-4a84-95a2-4e41a5c4430b",
   "metadata": {},
   "outputs": [
    {
     "name": "stdout",
     "output_type": "stream",
     "text": [
      "30\n"
     ]
    }
   ],
   "source": [
    "print(x+y)"
   ]
  },
  {
   "cell_type": "code",
   "execution_count": 21,
   "id": "3d7182a1-56b0-4cda-ac3b-ef860e4c98dc",
   "metadata": {},
   "outputs": [],
   "source": [
    "x=\"Adithya\""
   ]
  },
  {
   "cell_type": "code",
   "execution_count": 22,
   "id": "c32cfe03-6811-483c-8347-50cb65d80f26",
   "metadata": {},
   "outputs": [],
   "source": [
    "y=\"krishna\""
   ]
  },
  {
   "cell_type": "code",
   "execution_count": 23,
   "id": "7b964c01-4898-47d4-9937-5b362418a04f",
   "metadata": {},
   "outputs": [
    {
     "name": "stdout",
     "output_type": "stream",
     "text": [
      "Adithyakrishna\n"
     ]
    }
   ],
   "source": [
    "print(x+y)"
   ]
  },
  {
   "cell_type": "code",
   "execution_count": 24,
   "id": "795231a9-a8b5-4b9d-98e8-a9728b368225",
   "metadata": {},
   "outputs": [
    {
     "name": "stdout",
     "output_type": "stream",
     "text": [
      "Adithya krishna\n"
     ]
    }
   ],
   "source": [
    "print(x+\" \"+y)"
   ]
  },
  {
   "cell_type": "code",
   "execution_count": 25,
   "id": "1dd0273f-b46a-42d2-bce1-a0c4aba9901a",
   "metadata": {},
   "outputs": [],
   "source": [
    "x=\"India\""
   ]
  },
  {
   "cell_type": "code",
   "execution_count": 29,
   "id": "197efa5a-3777-4ac4-9849-a4e5b82005b5",
   "metadata": {},
   "outputs": [],
   "source": [
    "y=\"is my\""
   ]
  },
  {
   "cell_type": "code",
   "execution_count": 30,
   "id": "183f0b57-c360-4f5e-841e-c452f851b743",
   "metadata": {},
   "outputs": [],
   "source": [
    "z=\"country\""
   ]
  },
  {
   "cell_type": "code",
   "execution_count": 28,
   "id": "92678581-c3c2-4df1-ac2e-21f6bf9ab566",
   "metadata": {},
   "outputs": [
    {
     "name": "stdout",
     "output_type": "stream",
     "text": [
      "India is my country\n"
     ]
    }
   ],
   "source": [
    "print(x+\" \"+y+\" \"+z)"
   ]
  },
  {
   "cell_type": "code",
   "execution_count": 31,
   "id": "76abda41-4a39-45be-a52d-54828255f72f",
   "metadata": {},
   "outputs": [],
   "source": [
    "x= \"India\""
   ]
  },
  {
   "cell_type": "code",
   "execution_count": 32,
   "id": "19c28ed4-194e-45af-a84a-8025b1fc6dc1",
   "metadata": {},
   "outputs": [],
   "source": [
    "y=\"is\""
   ]
  },
  {
   "cell_type": "code",
   "execution_count": 33,
   "id": "1b96595d-6a0c-481e-8016-719edf3a967f",
   "metadata": {},
   "outputs": [],
   "source": [
    "z=\"my\""
   ]
  },
  {
   "cell_type": "code",
   "execution_count": 34,
   "id": "8870f976-2c8c-4603-92c4-039196aed33d",
   "metadata": {},
   "outputs": [],
   "source": [
    "a=\"counrty\""
   ]
  },
  {
   "cell_type": "code",
   "execution_count": 36,
   "id": "b9550c5a-0745-48df-9ef0-6969351014f0",
   "metadata": {},
   "outputs": [
    {
     "name": "stdout",
     "output_type": "stream",
     "text": [
      "India is my counrty\n"
     ]
    }
   ],
   "source": [
    "print(x+\" \"+y+\" \"+z+\" \"+a)"
   ]
  },
  {
   "cell_type": "code",
   "execution_count": null,
   "id": "1b8e5501-0937-4406-80e7-40d7aa7ead5a",
   "metadata": {},
   "outputs": [],
   "source": []
  }
 ],
 "metadata": {
  "kernelspec": {
   "display_name": "Python 3 (ipykernel)",
   "language": "python",
   "name": "python3"
  },
  "language_info": {
   "codemirror_mode": {
    "name": "ipython",
    "version": 3
   },
   "file_extension": ".py",
   "mimetype": "text/x-python",
   "name": "python",
   "nbconvert_exporter": "python",
   "pygments_lexer": "ipython3",
   "version": "3.9.7"
  }
 },
 "nbformat": 4,
 "nbformat_minor": 5
}
